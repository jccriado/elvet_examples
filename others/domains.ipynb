{
 "cells": [
  {
   "cell_type": "markdown",
   "metadata": {},
   "source": [
    "# Generating non-trivial 2D domains\n",
    "\n",
    "The domain of a function in a variational problem/differential equation/fitting problem might not be a simple product of integrals (a `box` in `elvet`'s terms). Here are some examples of generating them."
   ]
  },
  {
   "cell_type": "code",
   "execution_count": 1,
   "metadata": {},
   "outputs": [],
   "source": [
    "import matplotlib.pyplot as plt\n",
    "\n",
    "import elvet"
   ]
  },
  {
   "cell_type": "markdown",
   "metadata": {},
   "source": [
    "## A box"
   ]
  },
  {
   "cell_type": "code",
   "execution_count": 3,
   "metadata": {},
   "outputs": [
    {
     "data": {
      "image/png": "[encoded data removed]",
      "text/plain": [
       "<Figure size 432x288 with 1 Axes>"
      ]
     },
     "metadata": {
      "needs_background": "light"
     },
     "output_type": "display_data"
    }
   ],
   "source": [
    "domain = elvet.box((0, 2, 100), (2, 5, 100))\n",
    "\n",
    "_, ax = plt.subplots(1)\n",
    "ax.scatter(*domain.numpy().T)\n",
    "ax.set_aspect(1)"
   ]
  },
  {
   "cell_type": "markdown",
   "metadata": {},
   "source": [
    "## A more complex polygon\n",
    "\n",
    "Defined by the linear equations\n",
    "$$\n",
    "    x_0 + x_1 > 4, \\qquad x_0 - x_1 < 3/2, \\qquad x_0 - 2 x_1 > -9.\n",
    "$$"
   ]
  },
  {
   "cell_type": "code",
   "execution_count": 7,
   "metadata": {},
   "outputs": [
    {
     "data": {
      "text/plain": [
       "<matplotlib.collections.PathCollection at 0x7f7344c7ba20>"
      ]
     },
     "execution_count": 7,
     "metadata": {},
     "output_type": "execute_result"
    },
    {
     "data": {
      "image/png": "[encoded data removed]",
      "text/plain": [
       "<Figure size 432x288 with 1 Axes>"
      ]
     },
     "metadata": {
      "needs_background": "light"
     },
     "output_type": "display_data"
    }
   ],
   "source": [
    "def conditions(x):\n",
    "    return (\n",
    "        x[0] + x[1] > 4,\n",
    "        x[0] - x[1] < -1.5,\n",
    "        x[0] - 2 * x[1] > -9,\n",
    "    )\n",
    "\n",
    "domain = elvet.cut_domain(elvet.box((0, 2, 100), (3, 5, 100)), conditions)\n",
    "plt.scatter(*domain.numpy().T)"
   ]
  },
  {
   "cell_type": "markdown",
   "metadata": {},
   "source": [
    "## An ellipsoid"
   ]
  },
  {
   "cell_type": "code",
   "execution_count": 9,
   "metadata": {},
   "outputs": [
    {
     "data": {
      "image/png": "[encoded data removed]",
      "text/plain": [
       "<Figure size 432x288 with 1 Axes>"
      ]
     },
     "metadata": {
      "needs_background": "light"
     },
     "output_type": "display_data"
    }
   ],
   "source": [
    "domain = elvet.ellipsoid((2, 4), (3, 1), n_points=10000)\n",
    "\n",
    "_, ax = plt.subplots(1)\n",
    "ax.scatter(*domain.numpy().T)\n",
    "ax.set_aspect(1)"
   ]
  },
  {
   "cell_type": "markdown",
   "metadata": {},
   "source": [
    "## A more complex region\n",
    "\n",
    "Determined by the non-linear equations\n",
    "$$\n",
    "    y > x^2, \\qquad y < x.\n",
    "$$"
   ]
  },
  {
   "cell_type": "code",
   "execution_count": 11,
   "metadata": {},
   "outputs": [
    {
     "data": {
      "text/plain": [
       "<matplotlib.collections.PathCollection at 0x7f7344c4da90>"
      ]
     },
     "execution_count": 11,
     "metadata": {},
     "output_type": "execute_result"
    },
    {
     "data": {
      "image/png": "[encoded data removed]",
      "text/plain": [
       "<Figure size 432x288 with 1 Axes>"
      ]
     },
     "metadata": {
      "needs_background": "light"
     },
     "output_type": "display_data"
    }
   ],
   "source": [
    "def conditions(xy):\n",
    "    x, y = xy\n",
    "    return y > x**2, y < x\n",
    "\n",
    "domain = elvet.cut_domain(elvet.box((0, 1, 100), (0, 1, 100)), conditions)\n",
    "plt.scatter(*domain.numpy().T)"
   ]
  },
  {
   "cell_type": "code",
   "execution_count": null,
   "metadata": {},
   "outputs": [],
   "source": []
  }
 ],
 "metadata": {
  "kernelspec": {
   "display_name": "Python 3",
   "language": "python",
   "name": "python3"
  },
  "language_info": {
   "codemirror_mode": {
    "name": "ipython",
    "version": 3
   },
   "file_extension": ".py",
   "mimetype": "text/x-python",
   "name": "python",
   "nbconvert_exporter": "python",
   "pygments_lexer": "ipython3",
   "version": "3.7.3"
  }
 },
 "nbformat": 4,
 "nbformat_minor": 2
}
