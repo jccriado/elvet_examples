{
 "cells": [
  {
   "cell_type": "markdown",
   "metadata": {},
   "source": [
    "## Brachistochrone\n",
    "\n",
    "To define the brachistochrone, consider a bead that slides over a curve under a uniform gravitational field. The curve that minimizes the time $T$ taken by the bead to go from a given point to another is the brachistochrone. Parametrizing the curve through the height $y(x)$ as a function of the horizontal coordinate $x$, we have\n",
    "$$\n",
    "T[y] = \\int_{y_0}^{y_1} \\sqrt{\\frac{1 + y'(x)^2}{\\max(y_0, y_1) - y}}.\n",
    "$$"
   ]
  },
  {
   "cell_type": "code",
   "execution_count": null,
   "metadata": {},
   "outputs": [],
   "source": [
    "%%capture\n",
    "!pip install elvet"
   ]
  },
  {
   "cell_type": "markdown",
   "metadata": {},
   "source": [
    "### Calculation\n",
    "\n",
    "We use `elvet.minimizer` and `elvet.math.integral`."
   ]
  },
  {
   "cell_type": "code",
   "execution_count": 8,
   "metadata": {},
   "outputs": [
    {
     "name": "stdout",
     "output_type": "stream",
     "text": [
      "\u001b[0m Elvet: epoch = 1, loss = 1.21e+02, elapsed time = 00:00:00\u001b[0m\n",
      "\u001b[0m Elvet: epoch = 10000, loss = 4.33e+00, elapsed time = 00:00:02\u001b[0m\n",
      "\u001b[0m Elvet: epoch = 20000, loss = 4.30e+00, elapsed time = 00:00:04\u001b[0m\n",
      "\u001b[0m Elvet: epoch = 30000, loss = 4.29e+00, elapsed time = 00:00:06\u001b[0m\n"
     ]
    }
   ],
   "source": [
    "import elvet\n",
    "\n",
    "heights = 2, 1\n",
    "distance = 3\n",
    "\n",
    "def loss(x, y, dy_dx):\n",
    "    dy_dx = dy_dx[:, 0]\n",
    "    \n",
    "    time = elvet.math.integral(\n",
    "        (1 + dy_dx**2)**0.5 / (max(heights) - y)**0.5, x,\n",
    "    )\n",
    "    bc_loss = (y[0] - heights[0])**2 + (y[-1] - heights[1])**2\n",
    "    \n",
    "    return time + 1e2 * bc_loss\n",
    "\n",
    "domain = elvet.box((0, distance, 100))\n",
    "result = elvet.minimizer(loss, domain, epochs=30000)"
   ]
  },
  {
   "cell_type": "markdown",
   "metadata": {},
   "source": [
    "### Checks\n",
    "\n",
    "The solution should be a cycloid."
   ]
  },
  {
   "cell_type": "code",
   "execution_count": 9,
   "metadata": {},
   "outputs": [
    {
     "data": {
      "image/png": "[encoded data removed]",
      "text/plain": [
       "<Figure size 432x288 with 1 Axes>"
      ]
     },
     "metadata": {
      "needs_background": "light"
     },
     "output_type": "display_data"
    }
   ],
   "source": [
    "import elvet.plotting\n",
    "\n",
    "elvet.plotting.plot_prediction(result)"
   ]
  },
  {
   "cell_type": "code",
   "execution_count": null,
   "metadata": {},
   "outputs": [],
   "source": []
  }
 ],
 "metadata": {
  "kernelspec": {
   "display_name": "Python 3",
   "language": "python",
   "name": "python3"
  },
  "language_info": {
   "codemirror_mode": {
    "name": "ipython",
    "version": 3
   },
   "file_extension": ".py",
   "mimetype": "text/x-python",
   "name": "python",
   "nbconvert_exporter": "python",
   "pygments_lexer": "ipython3",
   "version": "3.7.3"
  }
 },
 "nbformat": 4,
 "nbformat_minor": 2
}
