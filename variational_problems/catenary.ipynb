{
 "cells": [
  {
   "cell_type": "markdown",
   "metadata": {},
   "source": [
    "# Finding the catenary curve\n",
    "\n",
    "Find the catenary, which is the curve $y(x)$ described by a cable hanging from two fixed points. This can be done my minimizing its energy:\n",
    "$$\n",
    "E[y] = \\int_a^b dx y(x) \\sqrt{1 + y'(x)^2}\n",
    "$$\n",
    "while holding its length\n",
    "$$\n",
    "L[y] = \\int_a^b dx \\sqrt{1 + y'(x)^2}\n",
    "$$\n",
    "and the heights of the extremes $y(a)$ and $y(b)$ fixed."
   ]
  },
  {
   "cell_type": "code",
   "execution_count": 1,
   "metadata": {},
   "outputs": [],
   "source": [
    "import elvet"
   ]
  },
  {
   "cell_type": "markdown",
   "metadata": {},
   "source": [
    "## Computation\n",
    "\n",
    "We use the functional-minimizer function `minimizer` and the integration module. The available integration methods are"
   ]
  },
  {
   "cell_type": "code",
   "execution_count": 2,
   "metadata": {},
   "outputs": [
    {
     "data": {
      "text/plain": [
       "['leftriemann', 'rightriemann', 'trapezoidal', 'simpson', 'boole', 'romberg']"
      ]
     },
     "execution_count": 2,
     "metadata": {},
     "output_type": "execute_result"
    }
   ],
   "source": [
    "elvet.math.integration_methods"
   ]
  },
  {
   "cell_type": "code",
   "execution_count": 18,
   "metadata": {},
   "outputs": [
    {
     "name": "stdout",
     "output_type": "stream",
     "text": [
      "\u001b[0m Elvet: epoch = 1, loss = 4.03e+03, elapsed time = 00:00:00\u001b[0m\n",
      "\u001b[0m Elvet: epoch = 10000, loss = -2.34e+00, elapsed time = 00:00:04\u001b[0m\n",
      "\u001b[0m Elvet: epoch = 20000, loss = -2.60e+00, elapsed time = 00:00:07\u001b[0m\n",
      "\u001b[0m Elvet: epoch = 30000, loss = -2.62e+00, elapsed time = 00:00:11\u001b[0m\n",
      "\u001b[0m Elvet: epoch = 40000, loss = -2.62e+00, elapsed time = 00:00:15\u001b[0m\n",
      "\u001b[0m Elvet: epoch = 50000, loss = -2.62e+00, elapsed time = 00:00:19\u001b[0m\n"
     ]
    }
   ],
   "source": [
    "distance = 3\n",
    "heights = 1, 0\n",
    "length = 5\n",
    "\n",
    "def loss(x, y, dy_dx):\n",
    "    dy_dx = dy_dx[:, 0]\n",
    "    \n",
    "    energy = elvet.math.integral(y * (1 + dy_dx**2)**0.5, x)\n",
    "    current_length = elvet.math.integral((1 + dy_dx**2)**0.5, x)\n",
    "    bcs = (y[0] - heights[0], y[-1] - heights[1])\n",
    " \n",
    "    return (\n",
    "        energy\n",
    "        + 1e3 * (current_length - length)**2\n",
    "        + 1e2 * sum(bc**2 for bc in bcs)\n",
    "    )\n",
    "\n",
    "domain = elvet.box((0, 3, 100))\n",
    "result = elvet.minimizer(loss, domain, epochs=50000)"
   ]
  },
  {
   "cell_type": "markdown",
   "metadata": {},
   "source": [
    "## Checks\n",
    "\n",
    "Compare the result with the analytical solution given by\n",
    "$$\n",
    "    y(x) = y_0 + a \\cosh\\frac{x - x_0}{a}\n",
    "$$\n",
    "where\n",
    "$$\n",
    "   \\frac{\\sinh A}{a} = \\frac{\\sqrt{(b - a)^2 - h^2}}{b - a}, \\quad\n",
    "   a = \\frac{b - a}{2 A}, \\quad\n",
    "   x_0 = \\frac{b - a}{2} - a \\; {\\rm arctanh} \\, \\frac{h}{L}, \\quad\n",
    "   y_0 = \\frac{y(b) + y(a)}{2} + \\frac{b -a}{2 \\tanh A}.\n",
    "$$"
   ]
  },
  {
   "cell_type": "code",
   "execution_count": 15,
   "metadata": {},
   "outputs": [
    {
     "data": {
      "image/png": "[encoded data removed]",
      "text/plain": [
       "<Figure size 432x288 with 1 Axes>"
      ]
     },
     "metadata": {
      "needs_background": "light"
     },
     "output_type": "display_data"
    },
    {
     "data": {
      "image/png": "[encoded data removed]",
      "text/plain": [
       "<Figure size 432x288 with 1 Axes>"
      ]
     },
     "metadata": {
      "needs_background": "light"
     },
     "output_type": "display_data"
    }
   ],
   "source": [
    "import numpy as np\n",
    "from scipy.optimize import fsolve\n",
    "\n",
    "import elvet.plotting\n",
    "\n",
    "h = heights[1] - heights[0]\n",
    "r = (length**2 - h**2)**0.5 / distance\n",
    "A = fsolve(lambda A: r - np.sinh(A) / A, 1)\n",
    "\n",
    "a = distance / (2 * A)\n",
    "x_0 = distance / 2 - a * np.arctanh(h / length)\n",
    "y_0 = (heights[1] + heights[0]) / 2 - length / (2 * np.tanh(A))\n",
    "\n",
    "x = domain.numpy()\n",
    "true_function = a * np.cosh((x - x_0) / a) + y_0\n",
    "\n",
    "min_loss = min(result.losses)\n",
    "result.losses = [loss - min_loss + 1e-5 for loss in result.losses]\n",
    "elvet.plotting.plot_losses(result)\n",
    "elvet.plotting.plot_prediction(result, true_function=true_function)"
   ]
  },
  {
   "cell_type": "markdown",
   "metadata": {},
   "source": [
    "Check that the length is 5"
   ]
  },
  {
   "cell_type": "code",
   "execution_count": 22,
   "metadata": {},
   "outputs": [
    {
     "data": {
      "text/plain": [
       "5.000926494598389"
      ]
     },
     "execution_count": 22,
     "metadata": {},
     "output_type": "execute_result"
    }
   ],
   "source": [
    "y, dy_dx = result.derivatives()\n",
    "elvet.math.integral((1 + dy_dx[:, 0]**2)**0.5, x).numpy().item()"
   ]
  },
  {
   "cell_type": "code",
   "execution_count": null,
   "metadata": {},
   "outputs": [],
   "source": []
  }
 ],
 "metadata": {
  "kernelspec": {
   "display_name": "Python 3",
   "language": "python",
   "name": "python3"
  },
  "language_info": {
   "codemirror_mode": {
    "name": "ipython",
    "version": 3
   },
   "file_extension": ".py",
   "mimetype": "text/x-python",
   "name": "python",
   "nbconvert_exporter": "python",
   "pygments_lexer": "ipython3",
   "version": "3.7.3"
  }
 },
 "nbformat": 4,
 "nbformat_minor": 2
}
